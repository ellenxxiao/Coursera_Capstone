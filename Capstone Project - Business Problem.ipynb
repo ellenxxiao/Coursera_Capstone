{
 "cells": [
  {
   "cell_type": "markdown",
   "metadata": {},
   "source": [
    "### Introduction"
   ]
  },
  {
   "cell_type": "markdown",
   "metadata": {},
   "source": [
    "New York is one of my favorite cities in the world. There is so many kinds of restaurants, like Chinese food, American food, Portuguese cuisine, and etc. If you get tired of one kind, you can always find another brilliant one that suits your taste. In addition to a variety of types of food, restaurants of all levels can be found in NYC, from street food or breakfast truck to Michelin star restaurants. If you are a foodie, you will never get tired of this city. Therefore, I would like to choose NYC as the city to explore. \n",
    "In this project I will try to help Mr. Panini to find an optimal location or block for his business. Mr.Panini is an Italian restaurant owner in Califonia, and recently he would like to expand his business to NYC. He would like to open a new restaurant in Manhattan, but he doesn’t know where should him to set up his new business. \n",
    "   \n",
    "Following is my strategy for Mr. Panini:  \n",
    "    \n",
    "1)\tSince Mr. Panini is new to NYC, I will first create a map of NYC and Manhattan to him. Given the map, he is supposed to have a big picture about what does NYC and Manhattan look like, how the venues distribute.  \n",
    "  \n",
    "2)\tMr.Panini is going to open an Italian restaurant. His main competitors are existed Italian restaurant. Therefore, I will list all the Italian restaurant in Manhattan with their name, coordinates, rating.  \n",
    "  \n",
    "3)\tIn order to show a clear picture, I will create a map to show how Italian restaurants are distributed in each neighborhood.  \n",
    "  \n",
    "4)\tI will cluster the restaurants to narrow down the location and calculate the average rating. \n",
    "   \n",
    "5)\tBy choosing the lowest average rating to be our target cluster, I will choose the neighborhood with most Italian restaurants. Comparison will make Mr.Panini’s restaurant stand out.   \n",
    "  \n",
    "6)\tFinally, the location will be determined according to the Italian restaurants in this neighborhood.  "
   ]
  },
  {
   "cell_type": "code",
   "execution_count": null,
   "metadata": {},
   "outputs": [],
   "source": []
  }
 ],
 "metadata": {
  "kernelspec": {
   "display_name": "Python 3",
   "language": "python",
   "name": "python3"
  },
  "language_info": {
   "codemirror_mode": {
    "name": "ipython",
    "version": 3
   },
   "file_extension": ".py",
   "mimetype": "text/x-python",
   "name": "python",
   "nbconvert_exporter": "python",
   "pygments_lexer": "ipython3",
   "version": "3.6.3"
  }
 },
 "nbformat": 4,
 "nbformat_minor": 2
}
